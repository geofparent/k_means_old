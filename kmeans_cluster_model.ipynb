{
 "cells": [
  {
   "cell_type": "code",
   "execution_count": 2,
   "metadata": {},
   "outputs": [],
   "source": [
    "def kmeans_model(model_data,cluster_num,number_cl_max):\n",
    "    time_increment = variable_1 = model_data.columns[0]\n",
    "    \n",
    "    for i in model_data[time_increment].unique():\n",
    "        \n",
    "        temp_model_data = model_data[model_data[time_increment] == i]\n",
    "        \n",
    "        #normalize\n",
    "        inputs = temp_model_data.iloc[:,2:4]\n",
    "        variable_1 = model_data.columns[2]\n",
    "        variable_2 = model_data.columns[3]\n",
    "        x = inputs[[variable_1]].values.astype(float)\n",
    "        min_max_scaler = preprocessing.MinMaxScaler()\n",
    "        x_scaled = min_max_scaler.fit_transform(x)\n",
    "        inputs[variable_1] = x_scaled\n",
    "        x = inputs[[variable_2]].values.astype(float)\n",
    "        min_max_scaler = preprocessing.MinMaxScaler()\n",
    "        x_scaled = min_max_scaler.fit_transform(x)\n",
    "        inputs[variable_2] = x_scaled\n",
    "\n",
    "        ##kmeans fitting\n",
    "        kmeans = KMeans(cluster_num)\n",
    "        kmeans.fit(inputs)\n",
    "        clusters = kmeans.fit_predict(inputs)\n",
    "\n",
    "        ##creating column for results\n",
    "        new_col_name = str(i) +'_CLUSTER'\n",
    "        temp_model_data[new_col_name] = clusters\n",
    "        temp_model_data.head()\n",
    "        \n",
    "        #print(str(i) +\" CLUSTER GRAPH\")\n",
    "        #plt.scatter(temp_model_data.iloc[:,2],temp_model_data[:,3],c = temp_model_data[new_col_name],cmap='rainbow')\n",
    "\n",
    "        number_cl = range(1,number_cl_max)\n",
    "        number_cl\n",
    "\n",
    "        ##print(str(i) +\" WCSS GRAPH\")\n",
    "        #plt.plot(number_cl,wcss)\n",
    "        \n",
    "        ##adding to original dataframe\n",
    "        model_data[new_col_name] = temp_model_data[new_col_name]\n",
    "        model_data[new_col_name] = model_data[new_col_name].fillna(0)\n",
    "        print(str(i) + 'Complete')\n",
    "    \n",
    "    ##creating one column for clusters\n",
    "    model_data['CLUSTER_ID'] = model_data[['1_CLUSTER','2_CLUSTER','3_CLUSTER','4_CLUSTER']].sum(axis=1)\n",
    "    cols = [c for c in model_data.columns if c.lower()[1:] != '_cluster']\n",
    "    model_data = model_data[cols]\n",
    "    \n",
    "    ##new dataframe for summary of quarters & clusters\n",
    "    cluster_sum = pd.DataFrame()\n",
    "    time_increment = variable_1 = model_data.columns[0]\n",
    "    variable_group = model_data.columns[1]\n",
    "    variable_1 = model_data.columns[2]\n",
    "    variable_2 = model_data.columns[3]\n",
    "    grouping = model_data.groupby([time_increment, 'CLUSTER_ID']) \n",
    "    cluster_sum[variable_group +'_count'] = grouping[variable_group].count()\n",
    "    cluster_sum[variable_1 + '_min'] = grouping[variable_1].min()\n",
    "    cluster_sum[variable_1 + '_max'] = grouping[variable_1].max()\n",
    "    cluster_sum[variable_2 + '_min'] = grouping[variable_2].min()\n",
    "    cluster_sum[variable_2 + '_max'] = grouping[variable_2].max()\n",
    "    cluster_sum\n",
    "   \n",
    "    return cluster_sum,model_data"
   ]
  },
  {
   "cell_type": "code",
   "execution_count": null,
   "metadata": {},
   "outputs": [],
   "source": []
  }
 ],
 "metadata": {
  "kernelspec": {
   "display_name": "Python 3",
   "language": "python",
   "name": "python3"
  },
  "language_info": {
   "codemirror_mode": {
    "name": "ipython",
    "version": 3
   },
   "file_extension": ".py",
   "mimetype": "text/x-python",
   "name": "python",
   "nbconvert_exporter": "python",
   "pygments_lexer": "ipython3",
   "version": "3.7.6"
  },
  "varInspector": {
   "cols": {
    "lenName": 16,
    "lenType": 16,
    "lenVar": 40
   },
   "kernels_config": {
    "python": {
     "delete_cmd_postfix": "",
     "delete_cmd_prefix": "del ",
     "library": "var_list.py",
     "varRefreshCmd": "print(var_dic_list())"
    },
    "r": {
     "delete_cmd_postfix": ") ",
     "delete_cmd_prefix": "rm(",
     "library": "var_list.r",
     "varRefreshCmd": "cat(var_dic_list()) "
    }
   },
   "types_to_exclude": [
    "module",
    "function",
    "builtin_function_or_method",
    "instance",
    "_Feature"
   ],
   "window_display": false
  }
 },
 "nbformat": 4,
 "nbformat_minor": 2
}
